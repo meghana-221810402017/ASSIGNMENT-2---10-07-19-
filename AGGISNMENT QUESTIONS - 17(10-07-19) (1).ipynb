{
 "cells": [
  {
   "cell_type": "code",
   "execution_count": 2,
   "metadata": {},
   "outputs": [
    {
     "name": "stdout",
     "output_type": "stream",
     "text": [
      "3 2 1 1 0 "
     ]
    }
   ],
   "source": [
    "# print the fibonacci series in the reverse order\n",
    "# Input:5\n",
    "#Output:3 2 1 1 0\n",
    "def reversefibonacci(n):\n",
    "    a=[0]*n\n",
    "    a[0]=0\n",
    "    a[1]=1\n",
    "    for i in range (2,n):\n",
    "        a[i] = a[i-2] + a[i- 1]\n",
    "    for i in range(n - 1,-1,-1):\n",
    "        print(a[i],end=\" \")\n",
    "n = 5\n",
    "reversefibonacci(n)"
   ]
  },
  {
   "cell_type": "code",
   "execution_count": 3,
   "metadata": {},
   "outputs": [
    {
     "name": "stdout",
     "output_type": "stream",
     "text": [
      "enter the number6\n",
      "1\n",
      "3\n",
      "9\n",
      "27\n",
      "81\n",
      "243\n"
     ]
    }
   ],
   "source": [
    "#series generation:- 1,3,9,27,81\n",
    "n=int(input(\"enter the number\"))\n",
    "i=1\n",
    "sum=1\n",
    "while i<=n:\n",
    "    print(sum)\n",
    "    sum=sum*3\n",
    "    i=i+1\n",
    "\n",
    "\n",
    "\n"
   ]
  },
  {
   "cell_type": "code",
   "execution_count": 6,
   "metadata": {},
   "outputs": [
    {
     "name": "stdout",
     "output_type": "stream",
     "text": [
      "enter number9\n",
      "2\n",
      "15\n",
      "41\n",
      "80\n",
      "132\n",
      "197\n",
      "275\n",
      "366\n",
      "470\n",
      "587\n"
     ]
    }
   ],
   "source": [
    "#  Series Generations:-  2 15 41 80 132 197 275 366 470 587\n",
    "a=2\n",
    "i=1\n",
    "c=13\n",
    "n=int(input(\"enter number\"))\n",
    "print(a)\n",
    "while i<=n:\n",
    "        a=a+c*i\n",
    "        print(a)\n",
    "        i=i+1\n",
    "\n"
   ]
  },
  {
   "cell_type": "code",
   "execution_count": 8,
   "metadata": {},
   "outputs": [
    {
     "name": "stdout",
     "output_type": "stream",
     "text": [
      "1 3\n",
      "8 15 27 50 92 169 311 572 1052 1935 3559 "
     ]
    }
   ],
   "source": [
    "# Series Generations:-  1 3 8 15 27 50 92 169 311\n",
    "a=1\n",
    "b=3\n",
    "c=4\n",
    "n=10\n",
    "sum=0\n",
    "i=0\n",
    "print(a,b)\n",
    "while(i<=n):\n",
    "        sum=a+b+c\n",
    "        print(sum,end=\" \")  \n",
    "        a=b\n",
    "        b=c\n",
    "        c=sum\n",
    "        i=i+1\n"
   ]
  },
  {
   "cell_type": "code",
   "execution_count": 1,
   "metadata": {},
   "outputs": [
    {
     "name": "stdout",
     "output_type": "stream",
     "text": [
      "enter the number9\n",
      "1\n",
      "2\n",
      "4\n",
      "8\n",
      "16\n",
      "32\n",
      "64\n",
      "128\n",
      "256\n"
     ]
    }
   ],
   "source": [
    "# Series Generations:-  1, 2, 4, 8, 16, 32, 64, 128, 256, ...\n",
    "n=int(input(\"enter the number\"))\n",
    "i=1\n",
    "sum=1\n",
    "while i<=n:\n",
    "    print(sum)\n",
    "    sum=sum*2\n",
    "    i=i+1"
   ]
  },
  {
   "cell_type": "code",
   "execution_count": 2,
   "metadata": {},
   "outputs": [
    {
     "name": "stdout",
     "output_type": "stream",
     "text": [
      "|****\n",
      "|*\n",
      "|***\n",
      "|**\n",
      "|*****\n"
     ]
    }
   ],
   "source": [
    "# (7)  pattern \n",
    "\n",
    "def pattern(n): \n",
    "\tfor i in n:  \n",
    "\t\tprint(\"|\", end = \"\") \n",
    "\t\tprint(\"*\" * int(i)) \n",
    "n = \"41325\"\n",
    "pattern(n) "
   ]
  },
  {
   "cell_type": "code",
   "execution_count": 9,
   "metadata": {},
   "outputs": [
    {
     "name": "stdout",
     "output_type": "stream",
     "text": [
      "Andhra Pradesh\n"
     ]
    }
   ],
   "source": [
    "\n",
    "# (8)  string occurance\n",
    "\n",
    "def removeChar(s, c) :\n",
    "  counts = s.count(c)  \n",
    "  s = list(s)\n",
    "  while counts :  \n",
    "    s.remove(c)  \n",
    "    counts -= 1 \n",
    "  s = '' . join(s)\n",
    "    \n",
    "  print(s)  \n",
    "if __name__ == '__main__' : \n",
    "\n",
    "  s = \"Andhra Pradesh\"\n",
    "  removeChar(s,'i')\n"
   ]
  },
  {
   "cell_type": "code",
   "execution_count": 10,
   "metadata": {},
   "outputs": [
    {
     "name": "stdout",
     "output_type": "stream",
     "text": [
      "27\n"
     ]
    }
   ],
   "source": [
    "#\n",
    "\n",
    "def input3(n):\n",
    "   if n%2==1:\n",
    "       print(2**(n//2))\n",
    "   if n%2==0:\n",
    "       print(3**(n//2))\n",
    "input3(6)"
   ]
  },
  {
   "cell_type": "code",
   "execution_count": 11,
   "metadata": {},
   "outputs": [
    {
     "name": "stdout",
     "output_type": "stream",
     "text": [
      "Input a stringmeghana\n",
      "Letters 7\n",
      "Digits 0\n"
     ]
    }
   ],
   "source": [
    "# (5) no of digits and numbers in a string\n",
    "\n",
    "s = input(\"Input a string\")\n",
    "d=l=0\n",
    "for c in s:\n",
    "    if c.isdigit():\n",
    "        d=d+1\n",
    "    elif c.isalpha():\n",
    "        l=l+1\n",
    "    else:\n",
    "        pass\n",
    "print(\"Letters\", l)\n",
    "print(\"Digits\", d)"
   ]
  },
  {
   "cell_type": "code",
   "execution_count": 33,
   "metadata": {},
   "outputs": [
    {
     "name": "stdout",
     "output_type": "stream",
     "text": [
      "ABCD\n"
     ]
    }
   ],
   "source": [
    "# (9) merging two strings \n",
    "  \n",
    "def toString(List): \n",
    "    return \"\".join(List)  \n",
    "def printIlsRecur(str1, str2, iStr, m, n, i):\n",
    "    if m==0 and n==0 :\n",
    "            print (toString(iStr))\n",
    "    elif m != 0 :\n",
    "        iStr[i] = str1[0] \n",
    "        printIlsRecur(str1[1:], str2, iStr, m-1, n, i+1) \n",
    "    else:\n",
    "        iStr[i] = str2[0] \n",
    "        printIlsRecur(str1, str2[1:], iStr, m, n-1, i+1) \n",
    "def printIls(str1, str2, m, n):\n",
    "    iStr = [''] * (m+n) \n",
    "    printIlsRecur(str1, str2, iStr, m, n, 0) \n",
    "str1 = \"AB\"\n",
    "str2 = \"CD\"\n",
    "printIls(str1, str2, len(str1), len(str2)) \n",
    " \n"
   ]
  },
  {
   "cell_type": "code",
   "execution_count": 24,
   "metadata": {},
   "outputs": [
    {
     "name": "stdout",
     "output_type": "stream",
     "text": [
      "10\n",
      "10\n",
      "30\n",
      "90\n",
      "270\n",
      "810\n",
      "2430\n",
      "7290\n"
     ]
    }
   ],
   "source": [
    "# (13) series\n",
    "\n",
    "a=int(input())\n",
    "while a<=10000:\n",
    " print (a)\n",
    " a=a*3"
   ]
  },
  {
   "cell_type": "code",
   "execution_count": 42,
   "metadata": {},
   "outputs": [
    {
     "name": "stdout",
     "output_type": "stream",
     "text": [
      "34\n"
     ]
    }
   ],
   "source": [
    "# (4)  longest string in the given sentence \n",
    "\n",
    "def LongestWordLength(str): \n",
    "\n",
    "    n = len(str) \n",
    "    res = 0; curr_len = 0\n",
    "\n",
    "    for i in range(0, n): \n",
    "\n",
    " \n",
    "        if (str[i] != ' '): \n",
    "           curr_len += 1\n",
    "\n",
    "\n",
    "    else: \n",
    "        res = max(res, curr_len) \n",
    "    curr_len = 0\n",
    "\n",
    "    return max(res, curr_len) \n",
    "\n",
    "s = (\"gitam university is located in rudraram\")\n",
    "print(LongestWordLength(s)) "
   ]
  },
  {
   "cell_type": "code",
   "execution_count": null,
   "metadata": {},
   "outputs": [],
   "source": []
  },
  {
   "cell_type": "code",
   "execution_count": null,
   "metadata": {},
   "outputs": [],
   "source": [
    "\n"
   ]
  },
  {
   "cell_type": "code",
   "execution_count": null,
   "metadata": {},
   "outputs": [],
   "source": []
  }
 ],
 "metadata": {
  "kernelspec": {
   "display_name": "Python 3",
   "language": "python",
   "name": "python3"
  },
  "language_info": {
   "codemirror_mode": {
    "name": "ipython",
    "version": 3
   },
   "file_extension": ".py",
   "mimetype": "text/x-python",
   "name": "python",
   "nbconvert_exporter": "python",
   "pygments_lexer": "ipython3",
   "version": "3.7.3"
  }
 },
 "nbformat": 4,
 "nbformat_minor": 2
}
